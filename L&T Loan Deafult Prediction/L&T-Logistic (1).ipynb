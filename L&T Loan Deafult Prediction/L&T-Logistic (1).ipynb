{
 "cells": [
  {
   "cell_type": "code",
   "execution_count": 1,
   "metadata": {},
   "outputs": [],
   "source": [
    "import numpy as np\n",
    "import pandas as pd\n",
    "import matplotlib.pyplot as plt\n",
    "import seaborn as sb\n",
    "from tqdm import tqdm"
   ]
  },
  {
   "cell_type": "code",
   "execution_count": 2,
   "metadata": {},
   "outputs": [],
   "source": [
    "train_data=pd.read_csv('train.csv')\n",
    "test_data=pd.read_csv('test.csv')"
   ]
  },
  {
   "cell_type": "code",
   "execution_count": 3,
   "metadata": {},
   "outputs": [
    {
     "name": "stdout",
     "output_type": "stream",
     "text": [
      "<class 'pandas.core.frame.DataFrame'>\n",
      "Int64Index: 225493 entries, 0 to 233153\n",
      "Data columns (total 41 columns):\n",
      " #   Column                               Non-Null Count   Dtype  \n",
      "---  ------                               --------------   -----  \n",
      " 0   UniqueID                             225493 non-null  int64  \n",
      " 1   disbursed_amount                     225493 non-null  int64  \n",
      " 2   asset_cost                           225493 non-null  int64  \n",
      " 3   ltv                                  225493 non-null  float64\n",
      " 4   branch_id                            225493 non-null  int64  \n",
      " 5   supplier_id                          225493 non-null  int64  \n",
      " 6   manufacturer_id                      225493 non-null  int64  \n",
      " 7   Current_pincode_ID                   225493 non-null  int64  \n",
      " 8   Date.of.Birth                        225493 non-null  int64  \n",
      " 9   Employment_Type                      225493 non-null  object \n",
      " 10  DisbursalDate                        225493 non-null  int64  \n",
      " 11  State_ID                             225493 non-null  int64  \n",
      " 12  Employee_code_ID                     225493 non-null  int64  \n",
      " 13  MobileNo_Avl_Flag                    225493 non-null  int64  \n",
      " 14  Aadhar_flag                          225493 non-null  int64  \n",
      " 15  PAN_flag                             225493 non-null  int64  \n",
      " 16  VoterID_flag                         225493 non-null  int64  \n",
      " 17  Driving_flag                         225493 non-null  int64  \n",
      " 18  Passport_flag                        225493 non-null  int64  \n",
      " 19  PERFORM_CNS.SCORE                    225493 non-null  int64  \n",
      " 20  PERFORM_CNS_SCORE_DESCRIPTION        225493 non-null  object \n",
      " 21  PRI.NO.OF.ACCTS                      225493 non-null  int64  \n",
      " 22  PRI.ACTIVE.ACCTS                     225493 non-null  int64  \n",
      " 23  PRI.OVERDUE.ACCTS                    225493 non-null  int64  \n",
      " 24  PRI.CURRENT.BALANCE                  225493 non-null  int64  \n",
      " 25  PRI.SANCTIONED.AMOUNT                225493 non-null  int64  \n",
      " 26  PRI.DISBURSED.AMOUNT                 225493 non-null  int64  \n",
      " 27  SEC.NO.OF.ACCTS                      225493 non-null  int64  \n",
      " 28  SEC.ACTIVE.ACCTS                     225493 non-null  int64  \n",
      " 29  SEC.OVERDUE.ACCTS                    225493 non-null  int64  \n",
      " 30  SEC.CURRENT.BALANCE                  225493 non-null  int64  \n",
      " 31  SEC.SANCTIONED.AMOUNT                225493 non-null  int64  \n",
      " 32  SEC.DISBURSED.AMOUNT                 225493 non-null  int64  \n",
      " 33  PRIMARY.INSTAL.AMT                   225493 non-null  int64  \n",
      " 34  SEC.INSTAL.AMT                       225493 non-null  int64  \n",
      " 35  NEW.ACCTS.IN.LAST.SIX.MONTHS         225493 non-null  int64  \n",
      " 36  DELINQUENT.ACCTS.IN.LAST.SIX.MONTHS  225493 non-null  int64  \n",
      " 37  AVERAGE.ACCT.AGE                     225493 non-null  int64  \n",
      " 38  CREDIT.HISTORY.LENGTH                225493 non-null  int64  \n",
      " 39  NO.OF_INQUIRIES                      225493 non-null  int64  \n",
      " 40  loan_default                         225493 non-null  int64  \n",
      "dtypes: float64(1), int64(38), object(2)\n",
      "memory usage: 72.3+ MB\n"
     ]
    }
   ],
   "source": [
    "train_data.isnull().sum()\n",
    "train_data=train_data.dropna(axis=0)\n",
    "test_data=test_data.dropna(axis=0)\n",
    "test_data.isnull().sum()\n",
    "train_data.info()"
   ]
  },
  {
   "cell_type": "code",
   "execution_count": 4,
   "metadata": {},
   "outputs": [],
   "source": [
    "train_data['ltv']=train_data['ltv'].astype(np.int64)\n",
    "test_data['ltv']=test_data['ltv'].astype(np.int64)"
   ]
  },
  {
   "cell_type": "code",
   "execution_count": 5,
   "metadata": {},
   "outputs": [],
   "source": [
    "train_data=train_data.drop(['UniqueID'],axis=1)\n",
    "test_data=test_data.drop(['UniqueID'],axis=1)\n",
    "train_data=train_data.drop(['SEC.NO.OF.ACCTS'],axis=1)\n",
    "test_data=test_data.drop(['SEC.NO.OF.ACCTS'],axis=1)\n",
    "train_data=train_data.drop(['SEC.ACTIVE.ACCTS'],axis=1)\n",
    "test_data=test_data.drop(['SEC.ACTIVE.ACCTS'],axis=1)\n",
    "train_data=train_data.drop(['SEC.OVERDUE.ACCTS'],axis=1)\n",
    "test_data=test_data.drop(['SEC.OVERDUE.ACCTS'],axis=1)"
   ]
  },
  {
   "cell_type": "code",
   "execution_count": 6,
   "metadata": {},
   "outputs": [],
   "source": [
    "train_data=train_data.drop(['SEC.CURRENT.BALANCE'],axis=1)\n",
    "test_data=test_data.drop(['SEC.CURRENT.BALANCE'],axis=1)\n",
    "train_data=train_data.drop(['SEC.SANCTIONED.AMOUNT'],axis=1)\n",
    "test_data=test_data.drop(['SEC.SANCTIONED.AMOUNT'],axis=1)\n",
    "train_data=train_data.drop(['SEC.DISBURSED.AMOUNT'],axis=1)\n",
    "test_data=test_data.drop(['SEC.DISBURSED.AMOUNT'],axis=1)\n",
    "train_data=train_data.drop(['MobileNo_Avl_Flag'],axis=1)\n",
    "test_data=test_data.drop(['MobileNo_Avl_Flag'],axis=1)\n",
    "train_data=train_data.drop(['Aadhar_flag'],axis=1)\n",
    "test_data=test_data.drop(['Aadhar_flag'],axis=1)\n",
    "train_data=train_data.drop(['PAN_flag'],axis=1)\n",
    "test_data=test_data.drop(['PAN_flag'],axis=1)\n",
    "train_data=train_data.drop(['VoterID_flag'],axis=1)\n",
    "test_data=test_data.drop(['VoterID_flag'],axis=1)\n",
    "train_data=train_data.drop(['Driving_flag'],axis=1)\n",
    "test_data=test_data.drop(['Driving_flag'],axis=1)\n",
    "train_data=train_data.drop(['Passport_flag'],axis=1)\n",
    "test_data=test_data.drop(['Passport_flag'],axis=1)"
   ]
  },
  {
   "cell_type": "code",
   "execution_count": 7,
   "metadata": {},
   "outputs": [],
   "source": [
    "train_data=train_data.drop(['SEC.INSTAL.AMT'],axis=1)\n",
    "test_data=test_data.drop(['SEC.INSTAL.AMT'],axis=1)\n"
   ]
  },
  {
   "cell_type": "code",
   "execution_count": 8,
   "metadata": {},
   "outputs": [],
   "source": [
    "train_data=train_data.drop(['Employee_code_ID'],axis=1)\n",
    "test_data=test_data.drop(['Employee_code_ID'],axis=1)"
   ]
  },
  {
   "cell_type": "code",
   "execution_count": 9,
   "metadata": {},
   "outputs": [],
   "source": [
    "train_data=train_data.drop(['supplier_id'],axis=1)\n",
    "test_data=test_data.drop(['supplier_id'],axis=1)"
   ]
  },
  {
   "cell_type": "code",
   "execution_count": 10,
   "metadata": {},
   "outputs": [],
   "source": [
    "train_data=train_data.drop(['manufacturer_id'],axis=1)\n",
    "test_data=test_data.drop(['manufacturer_id'],axis=1)\n",
    "train_data=train_data.drop(['Current_pincode_ID'],axis=1)\n",
    "test_data=test_data.drop(['Current_pincode_ID'],axis=1)\n",
    "train_data=train_data.drop(['Date.of.Birth'],axis=1)\n",
    "test_data=test_data.drop(['Date.of.Birth'],axis=1)\n",
    "train_data=train_data.drop(['DisbursalDate'],axis=1)\n",
    "test_data=test_data.drop(['DisbursalDate'],axis=1)\n",
    "train_data=train_data.drop(['PRI.OVERDUE.ACCTS'],axis=1)\n",
    "test_data=test_data.drop(['PRI.OVERDUE.ACCTS'],axis=1)\n",
    "train_data=train_data.drop(['PRI.CURRENT.BALANCE'],axis=1)\n",
    "test_data=test_data.drop(['PRI.CURRENT.BALANCE'],axis=1)\n",
    "train_data=train_data.drop(['PRI.SANCTIONED.AMOUNT'],axis=1)\n",
    "test_data=test_data.drop(['PRI.SANCTIONED.AMOUNT'],axis=1)\n",
    "train_data=train_data.drop(['PRI.DISBURSED.AMOUNT'],axis=1)\n",
    "test_data=test_data.drop(['PRI.DISBURSED.AMOUNT'],axis=1)\n",
    "train_data=train_data.drop(['PRIMARY.INSTAL.AMT'],axis=1)\n",
    "test_data=test_data.drop(['PRIMARY.INSTAL.AMT'],axis=1)\n",
    "train_data=train_data.drop(['disbursed_amount'],axis=1)\n",
    "test_data=test_data.drop(['disbursed_amount'],axis=1)\n",
    "train_data=train_data.drop(['asset_cost'],axis=1)\n",
    "test_data=test_data.drop(['asset_cost'],axis=1)\n"
   ]
  },
  {
   "cell_type": "code",
   "execution_count": 11,
   "metadata": {},
   "outputs": [],
   "source": [
    "train_data=train_data.drop(['PERFORM_CNS.SCORE'],axis=1)\n",
    "test_data=test_data.drop(['PERFORM_CNS.SCORE'],axis=1)\n",
    "train_data=train_data.drop(['PRI.NO.OF.ACCTS'],axis=1)\n",
    "test_data=test_data.drop(['PRI.NO.OF.ACCTS'],axis=1)\n",
    "train_data=train_data.drop(['PRI.ACTIVE.ACCTS'],axis=1)\n",
    "test_data=test_data.drop(['PRI.ACTIVE.ACCTS'],axis=1)\n",
    "train_data=train_data.drop(['NEW.ACCTS.IN.LAST.SIX.MONTHS'],axis=1)\n",
    "test_data=test_data.drop(['NEW.ACCTS.IN.LAST.SIX.MONTHS'],axis=1)\n",
    "train_data=train_data.drop(['AVERAGE.ACCT.AGE'],axis=1)\n",
    "test_data=test_data.drop(['AVERAGE.ACCT.AGE'],axis=1)\n",
    "train_data=train_data.drop(['CREDIT.HISTORY.LENGTH'],axis=1)\n",
    "test_data=test_data.drop(['CREDIT.HISTORY.LENGTH'],axis=1)"
   ]
  },
  {
   "cell_type": "code",
   "execution_count": 12,
   "metadata": {},
   "outputs": [
    {
     "name": "stdout",
     "output_type": "stream",
     "text": [
      "<class 'pandas.core.frame.DataFrame'>\n",
      "Int64Index: 225493 entries, 0 to 233153\n",
      "Data columns (total 8 columns):\n",
      " #   Column                               Non-Null Count   Dtype \n",
      "---  ------                               --------------   ----- \n",
      " 0   ltv                                  225493 non-null  int64 \n",
      " 1   branch_id                            225493 non-null  int64 \n",
      " 2   Employment_Type                      225493 non-null  object\n",
      " 3   State_ID                             225493 non-null  int64 \n",
      " 4   PERFORM_CNS_SCORE_DESCRIPTION        225493 non-null  object\n",
      " 5   DELINQUENT.ACCTS.IN.LAST.SIX.MONTHS  225493 non-null  int64 \n",
      " 6   NO.OF_INQUIRIES                      225493 non-null  int64 \n",
      " 7   loan_default                         225493 non-null  int64 \n",
      "dtypes: int64(6), object(2)\n",
      "memory usage: 15.5+ MB\n"
     ]
    }
   ],
   "source": [
    "train_data.info()"
   ]
  },
  {
   "cell_type": "code",
   "execution_count": 13,
   "metadata": {},
   "outputs": [
    {
     "name": "stderr",
     "output_type": "stream",
     "text": [
      "100%|███████████████████████████████████████████████████████████████████████████████████| 8/8 [00:00<00:00, 445.64it/s]"
     ]
    },
    {
     "name": "stdout",
     "output_type": "stream",
     "text": [
      "ltv : 83\n",
      "branch_id : 82\n",
      "State_ID : 22\n",
      "DELINQUENT.ACCTS.IN.LAST.SIX.MONTHS : 14\n",
      "NO.OF_INQUIRIES : 25\n",
      "loan_default : 2\n"
     ]
    },
    {
     "name": "stderr",
     "output_type": "stream",
     "text": [
      "\n"
     ]
    }
   ],
   "source": [
    "for col in tqdm(train_data.columns):\n",
    "    if train_data[col].dtype == 'int64':\n",
    "        print(col , \":\", train_data[col].nunique())"
   ]
  },
  {
   "cell_type": "code",
   "execution_count": 14,
   "metadata": {
    "scrolled": true
   },
   "outputs": [
    {
     "data": {
      "text/html": [
       "<div>\n",
       "<style scoped>\n",
       "    .dataframe tbody tr th:only-of-type {\n",
       "        vertical-align: middle;\n",
       "    }\n",
       "\n",
       "    .dataframe tbody tr th {\n",
       "        vertical-align: top;\n",
       "    }\n",
       "\n",
       "    .dataframe thead th {\n",
       "        text-align: right;\n",
       "    }\n",
       "</style>\n",
       "<table border=\"1\" class=\"dataframe\">\n",
       "  <thead>\n",
       "    <tr style=\"text-align: right;\">\n",
       "      <th></th>\n",
       "      <th>ltv</th>\n",
       "      <th>branch_id</th>\n",
       "      <th>Employment_Type</th>\n",
       "      <th>State_ID</th>\n",
       "      <th>PERFORM_CNS_SCORE_DESCRIPTION</th>\n",
       "      <th>DELINQUENT.ACCTS.IN.LAST.SIX.MONTHS</th>\n",
       "      <th>NO.OF_INQUIRIES</th>\n",
       "      <th>loan_default</th>\n",
       "    </tr>\n",
       "  </thead>\n",
       "  <tbody>\n",
       "    <tr>\n",
       "      <th>0</th>\n",
       "      <td>89</td>\n",
       "      <td>30</td>\n",
       "      <td>0</td>\n",
       "      <td>6</td>\n",
       "      <td>13</td>\n",
       "      <td>0</td>\n",
       "      <td>0</td>\n",
       "      <td>0</td>\n",
       "    </tr>\n",
       "    <tr>\n",
       "      <th>1</th>\n",
       "      <td>73</td>\n",
       "      <td>30</td>\n",
       "      <td>1</td>\n",
       "      <td>6</td>\n",
       "      <td>8</td>\n",
       "      <td>1</td>\n",
       "      <td>0</td>\n",
       "      <td>1</td>\n",
       "    </tr>\n",
       "    <tr>\n",
       "      <th>2</th>\n",
       "      <td>89</td>\n",
       "      <td>30</td>\n",
       "      <td>1</td>\n",
       "      <td>6</td>\n",
       "      <td>13</td>\n",
       "      <td>0</td>\n",
       "      <td>0</td>\n",
       "      <td>0</td>\n",
       "    </tr>\n",
       "    <tr>\n",
       "      <th>3</th>\n",
       "      <td>88</td>\n",
       "      <td>30</td>\n",
       "      <td>1</td>\n",
       "      <td>6</td>\n",
       "      <td>11</td>\n",
       "      <td>0</td>\n",
       "      <td>1</td>\n",
       "      <td>1</td>\n",
       "    </tr>\n",
       "    <tr>\n",
       "      <th>4</th>\n",
       "      <td>88</td>\n",
       "      <td>30</td>\n",
       "      <td>1</td>\n",
       "      <td>6</td>\n",
       "      <td>13</td>\n",
       "      <td>0</td>\n",
       "      <td>1</td>\n",
       "      <td>1</td>\n",
       "    </tr>\n",
       "    <tr>\n",
       "      <th>...</th>\n",
       "      <td>...</td>\n",
       "      <td>...</td>\n",
       "      <td>...</td>\n",
       "      <td>...</td>\n",
       "      <td>...</td>\n",
       "      <td>...</td>\n",
       "      <td>...</td>\n",
       "      <td>...</td>\n",
       "    </tr>\n",
       "    <tr>\n",
       "      <th>233149</th>\n",
       "      <td>60</td>\n",
       "      <td>18</td>\n",
       "      <td>0</td>\n",
       "      <td>6</td>\n",
       "      <td>3</td>\n",
       "      <td>0</td>\n",
       "      <td>0</td>\n",
       "      <td>0</td>\n",
       "    </tr>\n",
       "    <tr>\n",
       "      <th>233150</th>\n",
       "      <td>74</td>\n",
       "      <td>18</td>\n",
       "      <td>1</td>\n",
       "      <td>6</td>\n",
       "      <td>0</td>\n",
       "      <td>0</td>\n",
       "      <td>0</td>\n",
       "      <td>0</td>\n",
       "    </tr>\n",
       "    <tr>\n",
       "      <th>233151</th>\n",
       "      <td>48</td>\n",
       "      <td>38</td>\n",
       "      <td>0</td>\n",
       "      <td>4</td>\n",
       "      <td>13</td>\n",
       "      <td>0</td>\n",
       "      <td>0</td>\n",
       "      <td>0</td>\n",
       "    </tr>\n",
       "    <tr>\n",
       "      <th>233152</th>\n",
       "      <td>49</td>\n",
       "      <td>38</td>\n",
       "      <td>0</td>\n",
       "      <td>4</td>\n",
       "      <td>13</td>\n",
       "      <td>0</td>\n",
       "      <td>0</td>\n",
       "      <td>0</td>\n",
       "    </tr>\n",
       "    <tr>\n",
       "      <th>233153</th>\n",
       "      <td>66</td>\n",
       "      <td>38</td>\n",
       "      <td>0</td>\n",
       "      <td>4</td>\n",
       "      <td>13</td>\n",
       "      <td>0</td>\n",
       "      <td>0</td>\n",
       "      <td>0</td>\n",
       "    </tr>\n",
       "  </tbody>\n",
       "</table>\n",
       "<p>225493 rows × 8 columns</p>\n",
       "</div>"
      ],
      "text/plain": [
       "        ltv  branch_id  Employment_Type  State_ID  \\\n",
       "0        89         30                0         6   \n",
       "1        73         30                1         6   \n",
       "2        89         30                1         6   \n",
       "3        88         30                1         6   \n",
       "4        88         30                1         6   \n",
       "...     ...        ...              ...       ...   \n",
       "233149   60         18                0         6   \n",
       "233150   74         18                1         6   \n",
       "233151   48         38                0         4   \n",
       "233152   49         38                0         4   \n",
       "233153   66         38                0         4   \n",
       "\n",
       "        PERFORM_CNS_SCORE_DESCRIPTION  DELINQUENT.ACCTS.IN.LAST.SIX.MONTHS  \\\n",
       "0                                  13                                    0   \n",
       "1                                   8                                    1   \n",
       "2                                  13                                    0   \n",
       "3                                  11                                    0   \n",
       "4                                  13                                    0   \n",
       "...                               ...                                  ...   \n",
       "233149                              3                                    0   \n",
       "233150                              0                                    0   \n",
       "233151                             13                                    0   \n",
       "233152                             13                                    0   \n",
       "233153                             13                                    0   \n",
       "\n",
       "        NO.OF_INQUIRIES  loan_default  \n",
       "0                     0             0  \n",
       "1                     0             1  \n",
       "2                     0             0  \n",
       "3                     1             1  \n",
       "4                     1             1  \n",
       "...                 ...           ...  \n",
       "233149                0             0  \n",
       "233150                0             0  \n",
       "233151                0             0  \n",
       "233152                0             0  \n",
       "233153                0             0  \n",
       "\n",
       "[225493 rows x 8 columns]"
      ]
     },
     "execution_count": 14,
     "metadata": {},
     "output_type": "execute_result"
    }
   ],
   "source": [
    "from sklearn.preprocessing import LabelEncoder \n",
    "le=LabelEncoder()\n",
    "train_data['Employment_Type']=le.fit_transform(train_data.Employment_Type)\n",
    "train_data['branch_id']=le.fit_transform(train_data.branch_id)\n",
    "train_data['PERFORM_CNS_SCORE_DESCRIPTION']=le.fit_transform(train_data.PERFORM_CNS_SCORE_DESCRIPTION)\n",
    "test_data['Employment_Type']=le.fit_transform(test_data.Employment_Type)\n",
    "test_data['branch_id']=le.fit_transform(test_data.branch_id)\n",
    "test_data['PERFORM_CNS_SCORE_DESCRIPTION']=le.fit_transform(test_data.PERFORM_CNS_SCORE_DESCRIPTION)\n",
    "train_data"
   ]
  },
  {
   "cell_type": "code",
   "execution_count": 15,
   "metadata": {},
   "outputs": [],
   "source": [
    "train_data['Employment_Type']=train_data['Employment_Type'].astype(np.int64)\n",
    "test_data['Employment_Type']=test_data['Employment_Type'].astype(np.int64)\n",
    "train_data['PERFORM_CNS_SCORE_DESCRIPTION']=train_data['PERFORM_CNS_SCORE_DESCRIPTION'].astype(np.int64)\n",
    "test_data['PERFORM_CNS_SCORE_DESCRIPTION']=test_data['PERFORM_CNS_SCORE_DESCRIPTION'].astype(np.int64)\n"
   ]
  },
  {
   "cell_type": "code",
   "execution_count": 16,
   "metadata": {},
   "outputs": [
    {
     "data": {
      "image/png": "[encoded data removed]",
      "text/plain": [
       "<Figure size 3600x3600 with 2 Axes>"
      ]
     },
     "metadata": {
      "needs_background": "light"
     },
     "output_type": "display_data"
    }
   ],
   "source": [
    "traindatacorr=train_data.corr()\n",
    "fig, ax = plt.subplots(figsize=(50,50))\n",
    "sb.heatmap(traindatacorr,annot=True,ax=ax,cmap=\"Blues\",annot_kws={\"size\": 20},fmt=\".2f\",square=True);\n"
   ]
  },
  {
   "cell_type": "code",
   "execution_count": 17,
   "metadata": {},
   "outputs": [
    {
     "data": {
      "text/html": [
       "<div>\n",
       "<style scoped>\n",
       "    .dataframe tbody tr th:only-of-type {\n",
       "        vertical-align: middle;\n",
       "    }\n",
       "\n",
       "    .dataframe tbody tr th {\n",
       "        vertical-align: top;\n",
       "    }\n",
       "\n",
       "    .dataframe thead th {\n",
       "        text-align: right;\n",
       "    }\n",
       "</style>\n",
       "<table border=\"1\" class=\"dataframe\">\n",
       "  <thead>\n",
       "    <tr style=\"text-align: right;\">\n",
       "      <th></th>\n",
       "      <th>ltv</th>\n",
       "      <th>branch_id</th>\n",
       "      <th>Employment_Type</th>\n",
       "      <th>State_ID</th>\n",
       "      <th>PERFORM_CNS_SCORE_DESCRIPTION</th>\n",
       "      <th>DELINQUENT.ACCTS.IN.LAST.SIX.MONTHS</th>\n",
       "      <th>NO.OF_INQUIRIES</th>\n",
       "    </tr>\n",
       "  </thead>\n",
       "  <tbody>\n",
       "    <tr>\n",
       "      <th>0</th>\n",
       "      <td>89</td>\n",
       "      <td>30</td>\n",
       "      <td>0</td>\n",
       "      <td>6</td>\n",
       "      <td>13</td>\n",
       "      <td>0</td>\n",
       "      <td>0</td>\n",
       "    </tr>\n",
       "    <tr>\n",
       "      <th>1</th>\n",
       "      <td>73</td>\n",
       "      <td>30</td>\n",
       "      <td>1</td>\n",
       "      <td>6</td>\n",
       "      <td>8</td>\n",
       "      <td>1</td>\n",
       "      <td>0</td>\n",
       "    </tr>\n",
       "    <tr>\n",
       "      <th>2</th>\n",
       "      <td>89</td>\n",
       "      <td>30</td>\n",
       "      <td>1</td>\n",
       "      <td>6</td>\n",
       "      <td>13</td>\n",
       "      <td>0</td>\n",
       "      <td>0</td>\n",
       "    </tr>\n",
       "    <tr>\n",
       "      <th>3</th>\n",
       "      <td>88</td>\n",
       "      <td>30</td>\n",
       "      <td>1</td>\n",
       "      <td>6</td>\n",
       "      <td>11</td>\n",
       "      <td>0</td>\n",
       "      <td>1</td>\n",
       "    </tr>\n",
       "    <tr>\n",
       "      <th>4</th>\n",
       "      <td>88</td>\n",
       "      <td>30</td>\n",
       "      <td>1</td>\n",
       "      <td>6</td>\n",
       "      <td>13</td>\n",
       "      <td>0</td>\n",
       "      <td>1</td>\n",
       "    </tr>\n",
       "    <tr>\n",
       "      <th>...</th>\n",
       "      <td>...</td>\n",
       "      <td>...</td>\n",
       "      <td>...</td>\n",
       "      <td>...</td>\n",
       "      <td>...</td>\n",
       "      <td>...</td>\n",
       "      <td>...</td>\n",
       "    </tr>\n",
       "    <tr>\n",
       "      <th>233149</th>\n",
       "      <td>60</td>\n",
       "      <td>18</td>\n",
       "      <td>0</td>\n",
       "      <td>6</td>\n",
       "      <td>3</td>\n",
       "      <td>0</td>\n",
       "      <td>0</td>\n",
       "    </tr>\n",
       "    <tr>\n",
       "      <th>233150</th>\n",
       "      <td>74</td>\n",
       "      <td>18</td>\n",
       "      <td>1</td>\n",
       "      <td>6</td>\n",
       "      <td>0</td>\n",
       "      <td>0</td>\n",
       "      <td>0</td>\n",
       "    </tr>\n",
       "    <tr>\n",
       "      <th>233151</th>\n",
       "      <td>48</td>\n",
       "      <td>38</td>\n",
       "      <td>0</td>\n",
       "      <td>4</td>\n",
       "      <td>13</td>\n",
       "      <td>0</td>\n",
       "      <td>0</td>\n",
       "    </tr>\n",
       "    <tr>\n",
       "      <th>233152</th>\n",
       "      <td>49</td>\n",
       "      <td>38</td>\n",
       "      <td>0</td>\n",
       "      <td>4</td>\n",
       "      <td>13</td>\n",
       "      <td>0</td>\n",
       "      <td>0</td>\n",
       "    </tr>\n",
       "    <tr>\n",
       "      <th>233153</th>\n",
       "      <td>66</td>\n",
       "      <td>38</td>\n",
       "      <td>0</td>\n",
       "      <td>4</td>\n",
       "      <td>13</td>\n",
       "      <td>0</td>\n",
       "      <td>0</td>\n",
       "    </tr>\n",
       "  </tbody>\n",
       "</table>\n",
       "<p>225493 rows × 7 columns</p>\n",
       "</div>"
      ],
      "text/plain": [
       "        ltv  branch_id  Employment_Type  State_ID  \\\n",
       "0        89         30                0         6   \n",
       "1        73         30                1         6   \n",
       "2        89         30                1         6   \n",
       "3        88         30                1         6   \n",
       "4        88         30                1         6   \n",
       "...     ...        ...              ...       ...   \n",
       "233149   60         18                0         6   \n",
       "233150   74         18                1         6   \n",
       "233151   48         38                0         4   \n",
       "233152   49         38                0         4   \n",
       "233153   66         38                0         4   \n",
       "\n",
       "        PERFORM_CNS_SCORE_DESCRIPTION  DELINQUENT.ACCTS.IN.LAST.SIX.MONTHS  \\\n",
       "0                                  13                                    0   \n",
       "1                                   8                                    1   \n",
       "2                                  13                                    0   \n",
       "3                                  11                                    0   \n",
       "4                                  13                                    0   \n",
       "...                               ...                                  ...   \n",
       "233149                              3                                    0   \n",
       "233150                              0                                    0   \n",
       "233151                             13                                    0   \n",
       "233152                             13                                    0   \n",
       "233153                             13                                    0   \n",
       "\n",
       "        NO.OF_INQUIRIES  \n",
       "0                     0  \n",
       "1                     0  \n",
       "2                     0  \n",
       "3                     1  \n",
       "4                     1  \n",
       "...                 ...  \n",
       "233149                0  \n",
       "233150                0  \n",
       "233151                0  \n",
       "233152                0  \n",
       "233153                0  \n",
       "\n",
       "[225493 rows x 7 columns]"
      ]
     },
     "execution_count": 17,
     "metadata": {},
     "output_type": "execute_result"
    }
   ],
   "source": [
    "y_dep=train_data.iloc[:,7] #loc can be given\n",
    "x_ind=train_data.iloc[:,0:7]\n",
    "x_ind"
   ]
  },
  {
   "cell_type": "code",
   "execution_count": 18,
   "metadata": {},
   "outputs": [
    {
     "name": "stdout",
     "output_type": "stream",
     "text": [
      "Optimization terminated successfully.\n",
      "         Current function value: 0.533553\n",
      "         Iterations 5\n"
     ]
    }
   ],
   "source": [
    "from sklearn.model_selection import train_test_split\n",
    "x_train,x_test,y_train,y_test=train_test_split(x_ind,y_dep,test_size=.1,random_state=2)\n",
    "import statsmodels.api as stm\n",
    "model_stat=stm.Logit(y_train,x_train).fit()"
   ]
  },
  {
   "cell_type": "code",
   "execution_count": 19,
   "metadata": {},
   "outputs": [
    {
     "data": {
      "text/html": [
       "<table class=\"simpletable\">\n",
       "<tr>\n",
       "        <td>Model:</td>              <td>Logit</td>      <td>Pseudo R-squared:</td>   <td>-0.019</td>   \n",
       "</tr>\n",
       "<tr>\n",
       "  <td>Dependent Variable:</td>   <td>loan_default</td>         <td>AIC:</td>        <td>216575.8561</td>\n",
       "</tr>\n",
       "<tr>\n",
       "         <td>Date:</td>        <td>2021-07-15 00:53</td>       <td>BIC:</td>        <td>216647.4008</td>\n",
       "</tr>\n",
       "<tr>\n",
       "   <td>No. Observations:</td>       <td>202943</td>       <td>Log-Likelihood:</td>  <td>-1.0828e+05</td>\n",
       "</tr>\n",
       "<tr>\n",
       "       <td>Df Model:</td>              <td>6</td>            <td>LL-Null:</td>      <td>-1.0631e+05</td>\n",
       "</tr>\n",
       "<tr>\n",
       "     <td>Df Residuals:</td>         <td>202936</td>        <td>LLR p-value:</td>      <td>1.0000</td>   \n",
       "</tr>\n",
       "<tr>\n",
       "      <td>Converged:</td>           <td>1.0000</td>           <td>Scale:</td>         <td>1.0000</td>   \n",
       "</tr>\n",
       "<tr>\n",
       "    <td>No. Iterations:</td>        <td>5.0000</td>              <td></td>               <td></td>      \n",
       "</tr>\n",
       "</table>\n",
       "<table class=\"simpletable\">\n",
       "<tr>\n",
       "                   <td></td>                    <th>Coef.</th>  <th>Std.Err.</th>     <th>z</th>     <th>P>|z|</th> <th>[0.025</th>  <th>0.975]</th> \n",
       "</tr>\n",
       "<tr>\n",
       "  <th>ltv</th>                                 <td>-0.0177</td>  <td>0.0002</td>  <td>-89.2343</td> <td>0.0000</td> <td>-0.0181</td> <td>-0.0173</td>\n",
       "</tr>\n",
       "<tr>\n",
       "  <th>branch_id</th>                           <td>-0.0008</td>  <td>0.0002</td>   <td>-3.5788</td> <td>0.0003</td> <td>-0.0013</td> <td>-0.0004</td>\n",
       "</tr>\n",
       "<tr>\n",
       "  <th>Employment_Type</th>                     <td>-0.0676</td>  <td>0.0104</td>   <td>-6.4779</td> <td>0.0000</td> <td>-0.0881</td> <td>-0.0472</td>\n",
       "</tr>\n",
       "<tr>\n",
       "  <th>State_ID</th>                            <td>0.0026</td>   <td>0.0012</td>   <td>2.1484</td>  <td>0.0317</td> <td>0.0002</td>  <td>0.0049</td> \n",
       "</tr>\n",
       "<tr>\n",
       "  <th>PERFORM_CNS_SCORE_DESCRIPTION</th>       <td>0.0092</td>   <td>0.0010</td>   <td>9.0618</td>  <td>0.0000</td> <td>0.0072</td>  <td>0.0112</td> \n",
       "</tr>\n",
       "<tr>\n",
       "  <th>DELINQUENT.ACCTS.IN.LAST.SIX.MONTHS</th> <td>0.1650</td>   <td>0.0129</td>   <td>12.7732</td> <td>0.0000</td> <td>0.1397</td>  <td>0.1904</td> \n",
       "</tr>\n",
       "<tr>\n",
       "  <th>NO.OF_INQUIRIES</th>                     <td>0.1283</td>   <td>0.0070</td>   <td>18.1928</td> <td>0.0000</td> <td>0.1144</td>  <td>0.1421</td> \n",
       "</tr>\n",
       "</table>"
      ],
      "text/plain": [
       "<class 'statsmodels.iolib.summary2.Summary'>\n",
       "\"\"\"\n",
       "                                   Results: Logit\n",
       "====================================================================================\n",
       "Model:                    Logit                  Pseudo R-squared:       -0.019     \n",
       "Dependent Variable:       loan_default           AIC:                    216575.8561\n",
       "Date:                     2021-07-15 00:53       BIC:                    216647.4008\n",
       "No. Observations:         202943                 Log-Likelihood:         -1.0828e+05\n",
       "Df Model:                 6                      LL-Null:                -1.0631e+05\n",
       "Df Residuals:             202936                 LLR p-value:            1.0000     \n",
       "Converged:                1.0000                 Scale:                  1.0000     \n",
       "No. Iterations:           5.0000                                                    \n",
       "------------------------------------------------------------------------------------\n",
       "                                     Coef.  Std.Err.    z     P>|z|   [0.025  0.975]\n",
       "------------------------------------------------------------------------------------\n",
       "ltv                                 -0.0177   0.0002 -89.2343 0.0000 -0.0181 -0.0173\n",
       "branch_id                           -0.0008   0.0002  -3.5788 0.0003 -0.0013 -0.0004\n",
       "Employment_Type                     -0.0676   0.0104  -6.4779 0.0000 -0.0881 -0.0472\n",
       "State_ID                             0.0026   0.0012   2.1484 0.0317  0.0002  0.0049\n",
       "PERFORM_CNS_SCORE_DESCRIPTION        0.0092   0.0010   9.0618 0.0000  0.0072  0.0112\n",
       "DELINQUENT.ACCTS.IN.LAST.SIX.MONTHS  0.1650   0.0129  12.7732 0.0000  0.1397  0.1904\n",
       "NO.OF_INQUIRIES                      0.1283   0.0070  18.1928 0.0000  0.1144  0.1421\n",
       "====================================================================================\n",
       "\n",
       "\"\"\""
      ]
     },
     "execution_count": 19,
     "metadata": {},
     "output_type": "execute_result"
    }
   ],
   "source": [
    "model_stat.summary2()"
   ]
  },
  {
   "cell_type": "code",
   "execution_count": 20,
   "metadata": {},
   "outputs": [
    {
     "name": "stdout",
     "output_type": "stream",
     "text": [
      "Optimization terminated successfully.\n",
      "         Current function value: 0.533553\n",
      "         Iterations 5\n"
     ]
    },
    {
     "data": {
      "text/html": [
       "<table class=\"simpletable\">\n",
       "<tr>\n",
       "        <td>Model:</td>              <td>Logit</td>      <td>Pseudo R-squared:</td>   <td>-0.019</td>   \n",
       "</tr>\n",
       "<tr>\n",
       "  <td>Dependent Variable:</td>   <td>loan_default</td>         <td>AIC:</td>        <td>216575.8561</td>\n",
       "</tr>\n",
       "<tr>\n",
       "         <td>Date:</td>        <td>2021-07-15 00:53</td>       <td>BIC:</td>        <td>216647.4008</td>\n",
       "</tr>\n",
       "<tr>\n",
       "   <td>No. Observations:</td>       <td>202943</td>       <td>Log-Likelihood:</td>  <td>-1.0828e+05</td>\n",
       "</tr>\n",
       "<tr>\n",
       "       <td>Df Model:</td>              <td>6</td>            <td>LL-Null:</td>      <td>-1.0631e+05</td>\n",
       "</tr>\n",
       "<tr>\n",
       "     <td>Df Residuals:</td>         <td>202936</td>        <td>LLR p-value:</td>      <td>1.0000</td>   \n",
       "</tr>\n",
       "<tr>\n",
       "      <td>Converged:</td>           <td>1.0000</td>           <td>Scale:</td>         <td>1.0000</td>   \n",
       "</tr>\n",
       "<tr>\n",
       "    <td>No. Iterations:</td>        <td>5.0000</td>              <td></td>               <td></td>      \n",
       "</tr>\n",
       "</table>\n",
       "<table class=\"simpletable\">\n",
       "<tr>\n",
       "                   <td></td>                    <th>Coef.</th>  <th>Std.Err.</th>     <th>z</th>     <th>P>|z|</th> <th>[0.025</th>  <th>0.975]</th> \n",
       "</tr>\n",
       "<tr>\n",
       "  <th>ltv</th>                                 <td>-0.0177</td>  <td>0.0002</td>  <td>-89.2343</td> <td>0.0000</td> <td>-0.0181</td> <td>-0.0173</td>\n",
       "</tr>\n",
       "<tr>\n",
       "  <th>branch_id</th>                           <td>-0.0008</td>  <td>0.0002</td>   <td>-3.5788</td> <td>0.0003</td> <td>-0.0013</td> <td>-0.0004</td>\n",
       "</tr>\n",
       "<tr>\n",
       "  <th>Employment_Type</th>                     <td>-0.0676</td>  <td>0.0104</td>   <td>-6.4779</td> <td>0.0000</td> <td>-0.0881</td> <td>-0.0472</td>\n",
       "</tr>\n",
       "<tr>\n",
       "  <th>State_ID</th>                            <td>0.0026</td>   <td>0.0012</td>   <td>2.1484</td>  <td>0.0317</td> <td>0.0002</td>  <td>0.0049</td> \n",
       "</tr>\n",
       "<tr>\n",
       "  <th>PERFORM_CNS_SCORE_DESCRIPTION</th>       <td>0.0092</td>   <td>0.0010</td>   <td>9.0618</td>  <td>0.0000</td> <td>0.0072</td>  <td>0.0112</td> \n",
       "</tr>\n",
       "<tr>\n",
       "  <th>DELINQUENT.ACCTS.IN.LAST.SIX.MONTHS</th> <td>0.1650</td>   <td>0.0129</td>   <td>12.7732</td> <td>0.0000</td> <td>0.1397</td>  <td>0.1904</td> \n",
       "</tr>\n",
       "<tr>\n",
       "  <th>NO.OF_INQUIRIES</th>                     <td>0.1283</td>   <td>0.0070</td>   <td>18.1928</td> <td>0.0000</td> <td>0.1144</td>  <td>0.1421</td> \n",
       "</tr>\n",
       "</table>"
      ],
      "text/plain": [
       "<class 'statsmodels.iolib.summary2.Summary'>\n",
       "\"\"\"\n",
       "                                   Results: Logit\n",
       "====================================================================================\n",
       "Model:                    Logit                  Pseudo R-squared:       -0.019     \n",
       "Dependent Variable:       loan_default           AIC:                    216575.8561\n",
       "Date:                     2021-07-15 00:53       BIC:                    216647.4008\n",
       "No. Observations:         202943                 Log-Likelihood:         -1.0828e+05\n",
       "Df Model:                 6                      LL-Null:                -1.0631e+05\n",
       "Df Residuals:             202936                 LLR p-value:            1.0000     \n",
       "Converged:                1.0000                 Scale:                  1.0000     \n",
       "No. Iterations:           5.0000                                                    \n",
       "------------------------------------------------------------------------------------\n",
       "                                     Coef.  Std.Err.    z     P>|z|   [0.025  0.975]\n",
       "------------------------------------------------------------------------------------\n",
       "ltv                                 -0.0177   0.0002 -89.2343 0.0000 -0.0181 -0.0173\n",
       "branch_id                           -0.0008   0.0002  -3.5788 0.0003 -0.0013 -0.0004\n",
       "Employment_Type                     -0.0676   0.0104  -6.4779 0.0000 -0.0881 -0.0472\n",
       "State_ID                             0.0026   0.0012   2.1484 0.0317  0.0002  0.0049\n",
       "PERFORM_CNS_SCORE_DESCRIPTION        0.0092   0.0010   9.0618 0.0000  0.0072  0.0112\n",
       "DELINQUENT.ACCTS.IN.LAST.SIX.MONTHS  0.1650   0.0129  12.7732 0.0000  0.1397  0.1904\n",
       "NO.OF_INQUIRIES                      0.1283   0.0070  18.1928 0.0000  0.1144  0.1421\n",
       "====================================================================================\n",
       "\n",
       "\"\"\""
      ]
     },
     "execution_count": 20,
     "metadata": {},
     "output_type": "execute_result"
    }
   ],
   "source": [
    "#x_train.drop(['State_ID'],axis=1,inplace=True)\n",
    "model_stat=stm.Logit(y_train,x_train).fit()\n",
    "model_stat.summary2()\n",
    "#187728"
   ]
  },
  {
   "cell_type": "code",
   "execution_count": 21,
   "metadata": {},
   "outputs": [
    {
     "name": "stderr",
     "output_type": "stream",
     "text": [
      "C:\\Users\\Jason\\anaconda3\\lib\\site-packages\\sklearn\\linear_model\\_logistic.py:762: ConvergenceWarning: lbfgs failed to converge (status=1):\n",
      "STOP: TOTAL NO. of ITERATIONS REACHED LIMIT.\n",
      "\n",
      "Increase the number of iterations (max_iter) or scale the data as shown in:\n",
      "    https://scikit-learn.org/stable/modules/preprocessing.html\n",
      "Please also refer to the documentation for alternative solver options:\n",
      "    https://scikit-learn.org/stable/modules/linear_model.html#logistic-regression\n",
      "  n_iter_i = _check_optimize_result(\n"
     ]
    },
    {
     "data": {
      "text/plain": [
       "LogisticRegression()"
      ]
     },
     "execution_count": 21,
     "metadata": {},
     "output_type": "execute_result"
    }
   ],
   "source": [
    "from sklearn.linear_model import LogisticRegression\n",
    "model_train=LogisticRegression()\n",
    "model_train.fit(x_train,y_train)"
   ]
  },
  {
   "cell_type": "code",
   "execution_count": 22,
   "metadata": {},
   "outputs": [
    {
     "data": {
      "text/plain": [
       "array([0, 0, 0, ..., 0, 0, 0], dtype=int64)"
      ]
     },
     "execution_count": 22,
     "metadata": {},
     "output_type": "execute_result"
    }
   ],
   "source": [
    "y_pred=model_train.predict(x_test)\n",
    "y_pred"
   ]
  },
  {
   "cell_type": "code",
   "execution_count": 23,
   "metadata": {},
   "outputs": [
    {
     "data": {
      "text/plain": [
       "array([[17714,    25],\n",
       "       [ 4791,    20]], dtype=int64)"
      ]
     },
     "execution_count": 23,
     "metadata": {},
     "output_type": "execute_result"
    }
   ],
   "source": [
    "from sklearn.metrics import confusion_matrix,accuracy_score\n",
    "confusion_matrix(y_test,y_pred)"
   ]
  },
  {
   "cell_type": "code",
   "execution_count": 24,
   "metadata": {},
   "outputs": [
    {
     "data": {
      "text/plain": [
       "0.786430155210643"
      ]
     },
     "execution_count": 24,
     "metadata": {},
     "output_type": "execute_result"
    }
   ],
   "source": [
    "model_train.score(x_test,y_test)"
   ]
  },
  {
   "cell_type": "code",
   "execution_count": 25,
   "metadata": {},
   "outputs": [
    {
     "data": {
      "image/png": "[encoded data removed]",
      "text/plain": [
       "<Figure size 432x288 with 1 Axes>"
      ]
     },
     "metadata": {
      "needs_background": "light"
     },
     "output_type": "display_data"
    }
   ],
   "source": [
    "from sklearn.metrics import roc_auc_score\n",
    "from sklearn.metrics import roc_curve\n",
    "logit_roc_auc=roc_auc_score(y_test,model_train.predict(x_test))\n",
    "fpr,tpr,thresholds=roc_curve(y_test,model_train.predict_proba(x_test)[:,1])\n",
    "plt.plot(fpr,tpr,logit_roc_auc);"
   ]
  },
  {
   "cell_type": "code",
   "execution_count": 26,
   "metadata": {},
   "outputs": [
    {
     "name": "stderr",
     "output_type": "stream",
     "text": [
      "C:\\Users\\Jason\\anaconda3\\lib\\site-packages\\sklearn\\linear_model\\_logistic.py:762: ConvergenceWarning: lbfgs failed to converge (status=1):\n",
      "STOP: TOTAL NO. of ITERATIONS REACHED LIMIT.\n",
      "\n",
      "Increase the number of iterations (max_iter) or scale the data as shown in:\n",
      "    https://scikit-learn.org/stable/modules/preprocessing.html\n",
      "Please also refer to the documentation for alternative solver options:\n",
      "    https://scikit-learn.org/stable/modules/linear_model.html#logistic-regression\n",
      "  n_iter_i = _check_optimize_result(\n"
     ]
    },
    {
     "data": {
      "text/html": [
       "<div>\n",
       "<style scoped>\n",
       "    .dataframe tbody tr th:only-of-type {\n",
       "        vertical-align: middle;\n",
       "    }\n",
       "\n",
       "    .dataframe tbody tr th {\n",
       "        vertical-align: top;\n",
       "    }\n",
       "\n",
       "    .dataframe thead th {\n",
       "        text-align: right;\n",
       "    }\n",
       "</style>\n",
       "<table border=\"1\" class=\"dataframe\">\n",
       "  <thead>\n",
       "    <tr style=\"text-align: right;\">\n",
       "      <th></th>\n",
       "      <th>0</th>\n",
       "    </tr>\n",
       "  </thead>\n",
       "  <tbody>\n",
       "    <tr>\n",
       "      <th>accuracy</th>\n",
       "      <td>0.786652</td>\n",
       "    </tr>\n",
       "  </tbody>\n",
       "</table>\n",
       "</div>"
      ],
      "text/plain": [
       "                 0\n",
       "accuracy  0.786652"
      ]
     },
     "execution_count": 26,
     "metadata": {},
     "output_type": "execute_result"
    }
   ],
   "source": [
    "from sklearn.metrics import accuracy_score\n",
    "z=LogisticRegression(class_weight=\"balanced\")\n",
    "z.fit(x_train,y_train)\n",
    "THRESHOLD=1\n",
    "pred=np.where(z.predict_proba(x_test)[:,1]>THRESHOLD,1,0)\n",
    "pd.DataFrame(data=[accuracy_score(y_test,pred)],index=[\"accuracy\"])"
   ]
  },
  {
   "cell_type": "code",
   "execution_count": 27,
   "metadata": {},
   "outputs": [
    {
     "name": "stdout",
     "output_type": "stream",
     "text": [
      "              precision    recall  f1-score   support\n",
      "\n",
      "           0       1.00      0.79      0.88     22505\n",
      "           1       0.00      0.44      0.01        45\n",
      "\n",
      "    accuracy                           0.79     22550\n",
      "   macro avg       0.50      0.62      0.44     22550\n",
      "weighted avg       1.00      0.79      0.88     22550\n",
      "\n"
     ]
    }
   ],
   "source": [
    "from sklearn.metrics import classification_report\n",
    "print(classification_report(y_pred,y_test))"
   ]
  },
  {
   "cell_type": "code",
   "execution_count": null,
   "metadata": {},
   "outputs": [],
   "source": []
  }
 ],
 "metadata": {
  "kernelspec": {
   "display_name": "Python 3",
   "language": "python",
   "name": "python3"
  },
  "language_info": {
   "codemirror_mode": {
    "name": "ipython",
    "version": 3
   },
   "file_extension": ".py",
   "mimetype": "text/x-python",
   "name": "python",
   "nbconvert_exporter": "python",
   "pygments_lexer": "ipython3",
   "version": "3.8.5"
  }
 },
 "nbformat": 4,
 "nbformat_minor": 4
}
