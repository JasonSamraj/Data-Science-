{
 "cells": [
  {
   "cell_type": "code",
   "execution_count": 1,
   "metadata": {},
   "outputs": [],
   "source": [
    "import pandas as pd\n",
    "import numpy as np\n",
    "import seaborn as sb\n",
    "import matplotlib.pyplot as plt\n",
    "from sklearn.model_selection import train_test_split\n",
    "from tqdm import tqdm"
   ]
  },
  {
   "cell_type": "code",
   "execution_count": 2,
   "metadata": {},
   "outputs": [
    {
     "name": "stderr",
     "output_type": "stream",
     "text": [
      "100%|████████████████████████████████████████████████████████████████████████████████| 28/28 [00:00<00:00, 2164.16it/s]"
     ]
    },
    {
     "name": "stdout",
     "output_type": "stream",
     "text": [
      "S.No : 1048\n",
      "Timestamp : 1035\n",
      "Age : 50\n",
      "Gender : 45\n",
      "Country : 42\n",
      "state : 45\n",
      "self_employed : 2\n",
      "family_history : 2\n",
      "treatment : 2\n",
      "work_interfere : 4\n",
      "no_employees : 6\n",
      "remote_work : 2\n",
      "tech_company : 2\n",
      "benefits : 3\n",
      "care_options : 3\n",
      "wellness_program : 3\n",
      "seek_help : 3\n",
      "anonymity : 3\n",
      "leave : 5\n",
      "mental_health_consequence : 3\n",
      "phys_health_consequence : 3\n",
      "coworkers : 3\n",
      "supervisor : 3\n",
      "mental_health_interview : 3\n",
      "phys_health_interview : 3\n",
      "mental_vs_physical : 3\n",
      "obs_consequence : 2\n",
      "comments : 128\n"
     ]
    },
    {
     "name": "stderr",
     "output_type": "stream",
     "text": [
      "\n"
     ]
    }
   ],
   "source": [
    "train_data = pd.read_csv('training_.csv')\n",
    "test_data = pd.read_csv('test.csv')\n",
    "for col in tqdm(train_data.columns):\n",
    "    if train_data[col].dtype == 'int64':\n",
    "        print(col , \":\", train_data[col].nunique())\n",
    "    elif train_data[col].dtype == 'float64':\n",
    "        print(col , \":\", train_data[col].nunique())\n",
    "    elif train_data[col].dtype == 'object':\n",
    "        print(col , \":\", train_data[col].nunique())"
   ]
  },
  {
   "cell_type": "code",
   "execution_count": 3,
   "metadata": {},
   "outputs": [],
   "source": [
    "gender_female=['Female','female','Cis Female','f','F','Woman','Femake','woman','Female ','cis-female/femme','Female (cis)']\n",
    "gender_male=['M','Male','male','m','Male-ish','maile','something kinda male?','Cis Male','Mal','Male (CIS)','Make','Guy (-ish) ^_^','male leaning androgynous','Male ','Man','msle','Mail','cis male','Malr']\n",
    "gender_trans=['Trans-female','something kinda male?','Agender','Trans woman','Female (trans)']\n",
    "gender_us=['queer/she/they','non-binary','Nah','All','Enby','fluid','Genderqueer','Androgyne','Neuter','queer','A little about you']\n",
    "for x in train_data['Gender']:\n",
    "    for y in gender_female:\n",
    "        if x == y:\n",
    "            train_data['Gender'] = train_data['Gender'].replace(x,'F')\n",
    "    for y in gender_male:\n",
    "        if x == y:\n",
    "            train_data['Gender'] = train_data['Gender'].replace(x,'M')\n",
    "    for y in gender_trans:\n",
    "        if x == y:\n",
    "            train_data['Gender'] = train_data['Gender'].replace(x,'T')\n",
    "    for y in gender_us:\n",
    "        if x == y:\n",
    "            train_data['Gender'] = train_data['Gender'].replace(x,'Nil')"
   ]
  },
  {
   "cell_type": "code",
   "execution_count": 12,
   "metadata": {},
   "outputs": [
    {
     "name": "stderr",
     "output_type": "stream",
     "text": [
      "100%|████████████████████████████████████████████████████████████████████████████████| 27/27 [00:00<00:00, 1289.16it/s]"
     ]
    },
    {
     "name": "stdout",
     "output_type": "stream",
     "text": [
      "S.No : 210\n",
      "Timestamp : 210\n",
      "Age : 35\n",
      "Gender : 14\n",
      "Country : 29\n",
      "state : 23\n",
      "self_employed : 2\n",
      "family_history : 2\n",
      "work_interfere : 4\n",
      "no_employees : 6\n",
      "remote_work : 2\n",
      "tech_company : 2\n",
      "benefits : 3\n",
      "care_options : 3\n",
      "wellness_program : 3\n",
      "seek_help : 3\n",
      "anonymity : 3\n",
      "leave : 5\n",
      "mental_health_consequence : 3\n",
      "phys_health_consequence : 3\n",
      "coworkers : 3\n",
      "supervisor : 3\n",
      "mental_health_interview : 3\n",
      "phys_health_interview : 3\n",
      "mental_vs_physical : 3\n",
      "obs_consequence : 2\n",
      "comments : 32\n"
     ]
    },
    {
     "name": "stderr",
     "output_type": "stream",
     "text": [
      "\n"
     ]
    }
   ],
   "source": [
    "for col in tqdm(test_data.columns):\n",
    "    if test_data[col].dtype == 'int64':\n",
    "        print(col , \":\", test_data[col].nunique())\n",
    "    elif test_data[col].dtype == 'float64':\n",
    "        print(col , \":\", test_data[col].nunique())\n",
    "    elif test_data[col].dtype == 'object':\n",
    "        print(col , \":\", test_data[col].nunique())"
   ]
  },
  {
   "cell_type": "code",
   "execution_count": 15,
   "metadata": {},
   "outputs": [],
   "source": [
    "gender_unique=[]\n",
    "for x in test_data['Gender'].unique():\n",
    "        gender_unique.append(x)\n",
    "gender_unique\n",
    "gender_female=['female','Female','F','femail','f','p']\n",
    "gender_male=['Male','M','male','Male ','m','Cis Man','ostensibly male, unsure what that really means',]\n",
    "for x in test_data['Gender']:\n",
    "    for y in gender_female:\n",
    "        if x == y:\n",
    "            test_data['Gender'] = test_data['Gender'].replace(x,'F')\n",
    "    for y in gender_male:\n",
    "        if x == y:\n",
    "            test_data['Gender'] = test_data['Gender'].replace(x,'M')"
   ]
  },
  {
   "cell_type": "code",
   "execution_count": 16,
   "metadata": {},
   "outputs": [],
   "source": [
    "test_data['state'].fillna('Based on country',inplace=True)\n",
    "test_data['self_employed'].fillna('Not filled',inplace=True)\n",
    "test_data['work_interfere'].fillna('Not Known',inplace=True)"
   ]
  },
  {
   "cell_type": "code",
   "execution_count": 4,
   "metadata": {},
   "outputs": [],
   "source": [
    "train_data['state'].fillna('Based on country',inplace=True)\n",
    "train_data['self_employed'].fillna('Not filled',inplace=True)\n",
    "train_data['work_interfere'].fillna('Not Known',inplace=True)"
   ]
  },
  {
   "cell_type": "code",
   "execution_count": 5,
   "metadata": {},
   "outputs": [
    {
     "name": "stderr",
     "output_type": "stream",
     "text": [
      "100%|████████████████████████████████████████████████████████████████████████████████| 28/28 [00:00<00:00, 1403.70it/s]"
     ]
    },
    {
     "name": "stdout",
     "output_type": "stream",
     "text": [
      "S.No : 1048\n",
      "Timestamp : 1035\n",
      "Age : 50\n",
      "Gender : 4\n",
      "Country : 42\n",
      "state : 46\n",
      "self_employed : 3\n",
      "family_history : 2\n",
      "treatment : 2\n",
      "work_interfere : 5\n",
      "no_employees : 6\n",
      "remote_work : 2\n",
      "tech_company : 2\n",
      "benefits : 3\n",
      "care_options : 3\n",
      "wellness_program : 3\n",
      "seek_help : 3\n",
      "anonymity : 3\n",
      "leave : 5\n",
      "mental_health_consequence : 3\n",
      "phys_health_consequence : 3\n",
      "coworkers : 3\n",
      "supervisor : 3\n",
      "mental_health_interview : 3\n",
      "phys_health_interview : 3\n",
      "mental_vs_physical : 3\n",
      "obs_consequence : 2\n",
      "comments : 128\n"
     ]
    },
    {
     "name": "stderr",
     "output_type": "stream",
     "text": [
      "\n"
     ]
    }
   ],
   "source": [
    "for col in tqdm(train_data.columns):\n",
    "    if train_data[col].dtype == 'int64':\n",
    "        print(col , \":\", train_data[col].nunique())\n",
    "    elif train_data[col].dtype == 'float64':\n",
    "        print(col , \":\", train_data[col].nunique())\n",
    "    elif train_data[col].dtype == 'object':\n",
    "        print(col , \":\", train_data[col].nunique())"
   ]
  },
  {
   "cell_type": "code",
   "execution_count": 6,
   "metadata": {},
   "outputs": [],
   "source": [
    "train_data=train_data.drop([\"comments\",\"S.No\",\"Timestamp\"],axis=1)\n",
    "from sklearn.preprocessing import LabelEncoder \n",
    "le=LabelEncoder()\n",
    "train_data['Gender']=le.fit_transform(train_data.Gender)\n",
    "train_data['Country']=le.fit_transform(train_data.Country)\n",
    "train_data['state']=le.fit_transform(train_data.state)\n",
    "train_data['self_employed']=le.fit_transform(train_data.self_employed)\n",
    "train_data['family_history']=le.fit_transform(train_data.family_history)\n",
    "train_data['treatment']=le.fit_transform(train_data.treatment)\n",
    "train_data['work_interfere']=le.fit_transform(train_data.work_interfere)\n",
    "train_data['no_employees']=le.fit_transform(train_data.no_employees)\n",
    "train_data['remote_work']=le.fit_transform(train_data.remote_work)\n",
    "train_data['tech_company']=le.fit_transform(train_data.tech_company)\n",
    "train_data['benefits']=le.fit_transform(train_data.benefits)\n",
    "train_data['care_options']=le.fit_transform(train_data.care_options)\n",
    "train_data['wellness_program']=le.fit_transform(train_data.wellness_program)\n",
    "train_data['seek_help']=le.fit_transform(train_data.seek_help)\n",
    "train_data['anonymity']=le.fit_transform(train_data.anonymity)\n",
    "train_data['leave']=le.fit_transform(train_data.leave)\n",
    "train_data['mental_health_consequence']=le.fit_transform(train_data.mental_health_consequence)\n",
    "train_data['phys_health_consequence']=le.fit_transform(train_data.phys_health_consequence)\n",
    "train_data['coworkers']=le.fit_transform(train_data.coworkers)\n",
    "train_data['supervisor']=le.fit_transform(train_data.supervisor)\n",
    "train_data['mental_health_interview']=le.fit_transform(train_data.mental_health_interview)\n",
    "train_data['phys_health_interview']=le.fit_transform(train_data.phys_health_interview)\n",
    "train_data['mental_vs_physical']=le.fit_transform(train_data.mental_vs_physical)\n",
    "train_data['obs_consequence']=le.fit_transform(train_data.obs_consequence)\n"
   ]
  },
  {
   "cell_type": "code",
   "execution_count": null,
   "metadata": {},
   "outputs": [],
   "source": [
    "test_data=test_data.drop([\"comments\",\"S.No\",\"Timestamp\"],axis=1)\n",
    "from sklearn.preprocessing import LabelEncoder \n",
    "le=LabelEncoder()"
   ]
  },
  {
   "cell_type": "code",
   "execution_count": 19,
   "metadata": {},
   "outputs": [],
   "source": [
    "\n",
    "test_data['Gender']=le.fit_transform(test_data.Gender)\n",
    "test_data['Country']=le.fit_transform(test_data.Country)\n",
    "test_data['state']=le.fit_transform(test_data.state)\n",
    "test_data['self_employed']=le.fit_transform(test_data.self_employed)\n",
    "test_data['family_history']=le.fit_transform(test_data.family_history)\n",
    "test_data['work_interfere']=le.fit_transform(test_data.work_interfere)\n",
    "test_data['no_employees']=le.fit_transform(test_data.no_employees)\n",
    "test_data['remote_work']=le.fit_transform(test_data.remote_work)\n",
    "test_data['tech_company']=le.fit_transform(test_data.tech_company)\n",
    "test_data['benefits']=le.fit_transform(test_data.benefits)\n",
    "test_data['care_options']=le.fit_transform(test_data.care_options)\n",
    "test_data['wellness_program']=le.fit_transform(test_data.wellness_program)\n",
    "test_data['seek_help']=le.fit_transform(test_data.seek_help)\n",
    "test_data['anonymity']=le.fit_transform(test_data.anonymity)\n",
    "test_data['leave']=le.fit_transform(test_data.leave)\n",
    "test_data['mental_health_consequence']=le.fit_transform(test_data.mental_health_consequence)\n",
    "test_data['phys_health_consequence']=le.fit_transform(test_data.phys_health_consequence)\n",
    "test_data['coworkers']=le.fit_transform(test_data.coworkers)\n",
    "test_data['supervisor']=le.fit_transform(test_data.supervisor)\n",
    "test_data['mental_health_interview']=le.fit_transform(test_data.mental_health_interview)\n",
    "test_data['phys_health_interview']=le.fit_transform(test_data.phys_health_interview)\n",
    "test_data['mental_vs_physical']=le.fit_transform(test_data.mental_vs_physical)\n",
    "test_data['obs_consequence']=le.fit_transform(test_data.obs_consequence)"
   ]
  },
  {
   "cell_type": "code",
   "execution_count": 8,
   "metadata": {},
   "outputs": [],
   "source": [
    "ind=train_data.drop(\"treatment\",axis=1)\n",
    "dep=train_data.treatment"
   ]
  },
  {
   "cell_type": "code",
   "execution_count": 10,
   "metadata": {},
   "outputs": [
    {
     "data": {
      "text/plain": [
       "RandomForestClassifier(min_samples_split=6)"
      ]
     },
     "execution_count": 10,
     "metadata": {},
     "output_type": "execute_result"
    }
   ],
   "source": [
    "from sklearn.model_selection import RandomizedSearchCV\n",
    "parameters={'n_estimators':(100,200,300,400,800),'criterion':('gini','entropy'),'max_features':('auto','sqrt'),'min_samples_split':(2,4,6)}\n",
    "rf_grid=RandomizedSearchCV(RandomForestClassifier(),param_distributions=parameters,cv=5)\n",
    "rf_grid.fit(ind,dep)\n",
    "rf_grid.best_estimator_"
   ]
  },
  {
   "cell_type": "code",
   "execution_count": 38,
   "metadata": {},
   "outputs": [],
   "source": [
    "from sklearn.ensemble import RandomForestClassifier\n",
    "model_rf=RandomForestClassifier(min_samples_split=6)\n",
    "model_rf_fit=model_rf.fit(ind,dep)\n",
    "y_pred=model_rf_fit.predict(test_data)\n",
    "y_pred=y_pred.transpose()"
   ]
  },
  {
   "cell_type": "code",
   "execution_count": 40,
   "metadata": {},
   "outputs": [],
   "source": [
    "s_no=[]\n",
    "for x in range(1,211):\n",
    "    s_no.append(x)\n",
    "final_predict={'S.No':s_no,'treatment':y_pred}\n",
    "final_predict=pd.DataFrame(final_predict)"
   ]
  },
  {
   "cell_type": "code",
   "execution_count": 43,
   "metadata": {},
   "outputs": [],
   "source": [
    "for x in final_predict['treatment']:\n",
    "    if x==1:\n",
    "        final_predict['treatment'] = final_predict['treatment'].replace(x,'Yes')\n",
    "    else:\n",
    "        final_predict['treatment']=final_predict['treatment'].replace(x,'No')"
   ]
  },
  {
   "cell_type": "code",
   "execution_count": 44,
   "metadata": {},
   "outputs": [],
   "source": [
    "final_predict.to_excel(\"final_predict.xlsx\") "
   ]
  },
  {
   "cell_type": "code",
   "execution_count": null,
   "metadata": {},
   "outputs": [],
   "source": []
  }
 ],
 "metadata": {
  "kernelspec": {
   "display_name": "Python 3",
   "language": "python",
   "name": "python3"
  },
  "language_info": {
   "codemirror_mode": {
    "name": "ipython",
    "version": 3
   },
   "file_extension": ".py",
   "mimetype": "text/x-python",
   "name": "python",
   "nbconvert_exporter": "python",
   "pygments_lexer": "ipython3",
   "version": "3.8.5"
  }
 },
 "nbformat": 4,
 "nbformat_minor": 4
}
